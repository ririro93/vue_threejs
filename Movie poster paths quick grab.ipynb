{
 "cells": [
  {
   "cell_type": "code",
   "execution_count": 10,
   "id": "amber-floor",
   "metadata": {
    "ExecuteTime": {
     "end_time": "2021-05-19T17:42:36.609647Z",
     "start_time": "2021-05-19T17:42:36.599639Z"
    }
   },
   "outputs": [],
   "source": [
    "import requests\n",
    "from pprint import pprint\n",
    "API_KEY = 'b19c89dd8bffcd21e75f82a15020c75c'"
   ]
  },
  {
   "cell_type": "code",
   "execution_count": null,
   "id": "mineral-stroke",
   "metadata": {},
   "outputs": [],
   "source": [
    "GENRE = 'action'\n",
    "URL = f'https://api.themoviedb.org/3/search/movie?api_key={API_KEY}&query={GENRE}'"
   ]
  },
  {
   "cell_type": "code",
   "execution_count": 18,
   "id": "distributed-affiliate",
   "metadata": {
    "ExecuteTime": {
     "end_time": "2021-05-19T17:46:35.980292Z",
     "start_time": "2021-05-19T17:46:35.903211Z"
    }
   },
   "outputs": [
    {
     "name": "stdout",
     "output_type": "stream",
     "text": [
      "{'genres': [{'id': 28, 'name': 'Action'}, {'id': 12, 'name': 'Adventure'}, {'id': 16, 'name': 'Animation'}, {'id': 35, 'name': 'Comedy'}, {'id': 80, 'name': 'Crime'}, {'id': 99, 'name': 'Documentary'}, {'id': 18, 'name': 'Drama'}, {'id': 10751, 'name': 'Family'}, {'id': 14, 'name': 'Fantasy'}, {'id': 36, 'name': 'History'}, {'id': 27, 'name': 'Horror'}, {'id': 10402, 'name': 'Music'}, {'id': 9648, 'name': 'Mystery'}, {'id': 10749, 'name': 'Romance'}, {'id': 878, 'name': 'Science Fiction'}, {'id': 10770, 'name': 'TV Movie'}, {'id': 53, 'name': 'Thriller'}, {'id': 10752, 'name': 'War'}, {'id': 37, 'name': 'Western'}]}\n"
     ]
    }
   ],
   "source": [
    "URL = f'https://api.themoviedb.org/3/genre/movie/list?api_key={API_KEY}'\n",
    "res = requests.get(URL).json()\n",
    "print(res)"
   ]
  },
  {
   "cell_type": "code",
   "execution_count": 27,
   "id": "reported-batman",
   "metadata": {
    "ExecuteTime": {
     "end_time": "2021-05-19T17:49:03.912913Z",
     "start_time": "2021-05-19T17:49:03.906919Z"
    }
   },
   "outputs": [],
   "source": [
    "URL = f'https://api.themoviedb.org/3/discover/movie?api_key={API_KEY}&with_genres=9648'"
   ]
  },
  {
   "cell_type": "code",
   "execution_count": 28,
   "id": "environmental-battery",
   "metadata": {
    "ExecuteTime": {
     "end_time": "2021-05-19T17:49:04.353120Z",
     "start_time": "2021-05-19T17:49:04.077963Z"
    }
   },
   "outputs": [
    {
     "name": "stdout",
     "output_type": "stream",
     "text": [
      "['https://image.tmdb.org/t/p/w500//xCEg6KowNISWvMh8GvPSxtdf9TO.jpg', 'https://image.tmdb.org/t/p/w500//95S6PinQIvVe4uJAd82a2iGZ0rA.jpg', 'https://image.tmdb.org/t/p/w500//wcrjc1uwQaqoqtqi67Su4VCOYo0.jpg', 'https://image.tmdb.org/t/p/w500//iqO2sTFqm6XwEXmlLxKDX75RPjY.jpg', 'https://image.tmdb.org/t/p/w500//tmghT8HaddVIS9hEXIOI9GuDchi.jpg', 'https://image.tmdb.org/t/p/w500//lcyKve7nXRFgRyms9M1bndNkKOx.jpg', 'https://image.tmdb.org/t/p/w500//8jDvtdH327I8TgX3UPdkAsZF1dA.jpg', 'https://image.tmdb.org/t/p/w500//sCoG0ibohbPrnyomtzegSuBL40L.jpg', 'https://image.tmdb.org/t/p/w500//m6bUeV4mczG3z2YXXr5XDKPsQzv.jpg', 'https://image.tmdb.org/t/p/w500//h7dZpJDORYs5c56dydbrLFkEXpE.jpg', 'https://image.tmdb.org/t/p/w500//7EGElXVSNnqcPjuhXPd6UVUX1rD.jpg', 'https://image.tmdb.org/t/p/w500//zEqyD0SBt6HL7W9JQoWwtd5Do1T.jpg', 'https://image.tmdb.org/t/p/w500//ode14q7WtDugFDp78fo9lCsmay9.jpg', 'https://image.tmdb.org/t/p/w500//kxc25B05Gq4CbCoWbyTFf9iF0wn.jpg', 'https://image.tmdb.org/t/p/w500//8F9xUvb1JMWUMkFV2Yq3aiueAbq.jpg', 'https://image.tmdb.org/t/p/w500//suORidtGKPO6tWwNqiwGvNo85z3.jpg', 'https://image.tmdb.org/t/p/w500//s836PRwHkLjrOJrfW0eo7B4NJOf.jpg', 'https://image.tmdb.org/t/p/w500//4WT7zYFpe0fsbg6TitppiHddWAh.jpg', 'https://image.tmdb.org/t/p/w500//2LwamrHAmxqEHsT9JViFJxT08Ek.jpg', 'https://image.tmdb.org/t/p/w500//5aL71e0XBgHZ6zdWcWeuEhwD2Gw.jpg']\n"
     ]
    }
   ],
   "source": [
    "res = requests.get(URL).json()\n",
    "image_URL = 'https://image.tmdb.org/t/p/w500/'\n",
    "urls = []\n",
    "for movie in res['results']:\n",
    "    urls.append(image_URL + movie['poster_path'])\n",
    "print(urls)"
   ]
  },
  {
   "cell_type": "code",
   "execution_count": null,
   "id": "wicked-sunglasses",
   "metadata": {},
   "outputs": [],
   "source": []
  }
 ],
 "metadata": {
  "kernelspec": {
   "display_name": "Python 3",
   "language": "python",
   "name": "python3"
  },
  "language_info": {
   "codemirror_mode": {
    "name": "ipython",
    "version": 3
   },
   "file_extension": ".py",
   "mimetype": "text/x-python",
   "name": "python",
   "nbconvert_exporter": "python",
   "pygments_lexer": "ipython3",
   "version": "3.8.7"
  },
  "toc": {
   "base_numbering": 1,
   "nav_menu": {},
   "number_sections": true,
   "sideBar": true,
   "skip_h1_title": false,
   "title_cell": "Table of Contents",
   "title_sidebar": "Contents",
   "toc_cell": false,
   "toc_position": {},
   "toc_section_display": true,
   "toc_window_display": false
  }
 },
 "nbformat": 4,
 "nbformat_minor": 5
}
